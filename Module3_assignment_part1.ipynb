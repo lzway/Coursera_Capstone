{
 "cells": [
  {
   "cell_type": "markdown",
   "id": "a05e9a4a",
   "metadata": {},
   "source": [
    "# The first part of the assignment - Use beautifualsoup to scrpy Tornato neighborhood data from wikipedia."
   ]
  },
  {
   "cell_type": "markdown",
   "id": "64a3897d",
   "metadata": {},
   "source": [
    "#### import package"
   ]
  },
  {
   "cell_type": "code",
   "execution_count": 129,
   "id": "f3340e1f",
   "metadata": {},
   "outputs": [],
   "source": [
    "import requests\n",
    "from bs4 import BeautifulSoup\n",
    "import pandas as pd"
   ]
  },
  {
   "cell_type": "markdown",
   "id": "f9ab72ae",
   "metadata": {},
   "source": [
    "#### The wikipeida URL:https://en.wikipedia.org/wiki/List_of_postal_codes_of_Canada:_M"
   ]
  },
  {
   "cell_type": "code",
   "execution_count": 2,
   "id": "d830cc9f",
   "metadata": {},
   "outputs": [],
   "source": [
    "url = r'https://en.wikipedia.org/wiki/List_of_postal_codes_of_Canada:_M'"
   ]
  },
  {
   "cell_type": "markdown",
   "id": "165937d5",
   "metadata": {},
   "source": [
    "#### use request and BeautifulSoup to get postcal data from the URL"
   ]
  },
  {
   "cell_type": "code",
   "execution_count": 4,
   "id": "7f3d6704",
   "metadata": {},
   "outputs": [],
   "source": [
    "html = requests.get(url)"
   ]
  },
  {
   "cell_type": "code",
   "execution_count": 5,
   "id": "a5969356",
   "metadata": {},
   "outputs": [],
   "source": [
    "soup = BeautifulSoup(html.text)"
   ]
  },
  {
   "cell_type": "markdown",
   "id": "272c4ed9",
   "metadata": {},
   "source": [
    "#### check tags in html and transform html information to text"
   ]
  },
  {
   "cell_type": "code",
   "execution_count": 6,
   "id": "ecd3fabc",
   "metadata": {},
   "outputs": [
    {
     "data": {
      "text/plain": [
       "'\\nM5ADowntown Toronto(Regent Park / Harbourfront)\\n\\n'"
      ]
     },
     "execution_count": 6,
     "metadata": {},
     "output_type": "execute_result"
    }
   ],
   "source": [
    "soup.find('table').find_all('td')[4].get_text()"
   ]
  },
  {
   "cell_type": "markdown",
   "id": "995600ce",
   "metadata": {},
   "source": [
    "#### use for loop to create the postcal list"
   ]
  },
  {
   "cell_type": "code",
   "execution_count": 7,
   "id": "d8d8d4e4",
   "metadata": {},
   "outputs": [],
   "source": [
    "output_list = []\n",
    "for cell_text in soup.find('table').find_all('td'):\n",
    "    tmp_postcode = cell_text.find('b').get_text()\n",
    "    a_text = cell_text.find_all('a')\n",
    "    if len(a_text) > 1:\n",
    "        tmp_borough = a_text[0].get_text()\n",
    "        tmp_neighbor = []\n",
    "        for neighbor_idx in range(1, len(a_text)):\n",
    "            tmp_neighbor.append(a_text[neighbor_idx].get_text())\n",
    "        tmp_neighbor = ', '.join(tmp_neighbor)\n",
    "        output_list.append([tmp_postcode, tmp_borough, tmp_neighbor])\n",
    "    elif len(a_text) == 1:\n",
    "        tmp_borough = a_text[0].get_text()\n",
    "        output_list.append([tmp_postcode, tmp_borough, tmp_borough])"
   ]
  },
  {
   "cell_type": "markdown",
   "id": "2f9fa73a",
   "metadata": {},
   "source": [
    "#### transform the postcal list to dataframe"
   ]
  },
  {
   "cell_type": "code",
   "execution_count": 8,
   "id": "bbc5712c",
   "metadata": {},
   "outputs": [
    {
     "data": {
      "text/html": [
       "<div>\n",
       "<style scoped>\n",
       "    .dataframe tbody tr th:only-of-type {\n",
       "        vertical-align: middle;\n",
       "    }\n",
       "\n",
       "    .dataframe tbody tr th {\n",
       "        vertical-align: top;\n",
       "    }\n",
       "\n",
       "    .dataframe thead th {\n",
       "        text-align: right;\n",
       "    }\n",
       "</style>\n",
       "<table border=\"1\" class=\"dataframe\">\n",
       "  <thead>\n",
       "    <tr style=\"text-align: right;\">\n",
       "      <th></th>\n",
       "      <th>PostalCode</th>\n",
       "      <th>Borough</th>\n",
       "      <th>Neighborhood</th>\n",
       "    </tr>\n",
       "  </thead>\n",
       "  <tbody>\n",
       "    <tr>\n",
       "      <th>0</th>\n",
       "      <td>M3A</td>\n",
       "      <td>North York</td>\n",
       "      <td>Parkwoods</td>\n",
       "    </tr>\n",
       "    <tr>\n",
       "      <th>1</th>\n",
       "      <td>M4A</td>\n",
       "      <td>North York</td>\n",
       "      <td>Victoria Village</td>\n",
       "    </tr>\n",
       "    <tr>\n",
       "      <th>2</th>\n",
       "      <td>M5A</td>\n",
       "      <td>Downtown Toronto</td>\n",
       "      <td>Regent Park, Harbourfront</td>\n",
       "    </tr>\n",
       "    <tr>\n",
       "      <th>3</th>\n",
       "      <td>M6A</td>\n",
       "      <td>North York</td>\n",
       "      <td>Lawrence Manor, Lawrence Heights</td>\n",
       "    </tr>\n",
       "    <tr>\n",
       "      <th>4</th>\n",
       "      <td>M7A</td>\n",
       "      <td>Queen's Park</td>\n",
       "      <td>Queen's Park</td>\n",
       "    </tr>\n",
       "  </tbody>\n",
       "</table>\n",
       "</div>"
      ],
      "text/plain": [
       "  PostalCode           Borough                      Neighborhood\n",
       "0        M3A        North York                         Parkwoods\n",
       "1        M4A        North York                  Victoria Village\n",
       "2        M5A  Downtown Toronto         Regent Park, Harbourfront\n",
       "3        M6A        North York  Lawrence Manor, Lawrence Heights\n",
       "4        M7A      Queen's Park                      Queen's Park"
      ]
     },
     "execution_count": 8,
     "metadata": {},
     "output_type": "execute_result"
    }
   ],
   "source": [
    "output_table = pd.DataFrame(output_list, columns = ['PostalCode', 'Borough', 'Neighborhood'])\n",
    "output_table.head()"
   ]
  },
  {
   "cell_type": "code",
   "execution_count": 9,
   "id": "8ad90c87",
   "metadata": {},
   "outputs": [
    {
     "data": {
      "text/plain": [
       "(101, 3)"
      ]
     },
     "execution_count": 9,
     "metadata": {},
     "output_type": "execute_result"
    }
   ],
   "source": [
    "output_table.shape"
   ]
  }
 ],
 "metadata": {
  "kernelspec": {
   "display_name": "Python 3",
   "language": "python",
   "name": "python3"
  },
  "language_info": {
   "codemirror_mode": {
    "name": "ipython",
    "version": 3
   },
   "file_extension": ".py",
   "mimetype": "text/x-python",
   "name": "python",
   "nbconvert_exporter": "python",
   "pygments_lexer": "ipython3",
   "version": "3.9.2"
  }
 },
 "nbformat": 4,
 "nbformat_minor": 5
}
