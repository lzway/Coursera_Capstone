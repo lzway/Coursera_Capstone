{
 "cells": [
  {
   "cell_type": "markdown",
   "id": "e53c6d45",
   "metadata": {},
   "source": [
    "# Part 1 : Introduction Problem"
   ]
  },
  {
   "cell_type": "markdown",
   "id": "cb913d81",
   "metadata": {},
   "source": [
    "I just finished  my master degree in the middle of Taiwan. However, there are few jobs related to data science in where I’m live in, so I decide to move to the capital city of Taiwan, Taipei City."
   ]
  },
  {
   "cell_type": "markdown",
   "id": "8e3828bf",
   "metadata": {},
   "source": [
    "#### Living anywhere is fine for me, but the only one of my live rule is that I must have coffee or bread in my breakfast everyday. "
   ]
  },
  {
   "cell_type": "markdown",
   "id": "391d3aaf",
   "metadata": {},
   "source": [
    "My classmates told me that there are enough coffee shop and bakery in Zhongzheng District in Taipei City, which totally can satisfy my habit. Thus, I am going to use venues data related to coffee shop and bakery to cluster the district(neighborhood) in Taipei City and New Taipei City"
   ]
  },
  {
   "cell_type": "markdown",
   "id": "5b109c9b",
   "metadata": {},
   "source": [
    "The target audience of this project is the coffee and bread lovers in Taipei City, and I think this problem can extend to other foods or drinks lovers who are going to move to Taipei.\n"
   ]
  },
  {
   "cell_type": "markdown",
   "id": "25e03423",
   "metadata": {},
   "source": [
    "\n",
    "# Part 2 : Data Description "
   ]
  },
  {
   "cell_type": "markdown",
   "id": "9c4a0bb8",
   "metadata": {},
   "source": [
    "I will use Taipei city postal codes from wiki website, and I am already download a CSV data file about latitude and longitude from website. "
   ]
  },
  {
   "cell_type": "markdown",
   "id": "2fde6312",
   "metadata": {},
   "source": [
    "#### Besides, I will use foursquare api to get venues data  of each neighborhood, and keep the venues related to coffee and bakery. By the way, you can get coffee and bakery in convince store in Taiwan, so the convince stores are also included.\n"
   ]
  },
  {
   "cell_type": "markdown",
   "id": "ba1ad39a",
   "metadata": {},
   "source": [
    " After cleaning and transforming data, I would like to use K-means to cluster the neighborhoods data to find out where else are similar to Zhongzheng District."
   ]
  }
 ],
 "metadata": {
  "kernelspec": {
   "display_name": "Python 3",
   "language": "python",
   "name": "python3"
  },
  "language_info": {
   "codemirror_mode": {
    "name": "ipython",
    "version": 3
   },
   "file_extension": ".py",
   "mimetype": "text/x-python",
   "name": "python",
   "nbconvert_exporter": "python",
   "pygments_lexer": "ipython3",
   "version": "3.9.2"
  }
 },
 "nbformat": 4,
 "nbformat_minor": 5
}
